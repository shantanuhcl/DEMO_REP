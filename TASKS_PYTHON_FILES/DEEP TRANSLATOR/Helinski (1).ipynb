{
  "nbformat": 4,
  "nbformat_minor": 0,
  "metadata": {
    "colab": {
      "private_outputs": true,
      "provenance": []
    },
    "kernelspec": {
      "name": "python3",
      "display_name": "Python 3"
    },
    "language_info": {
      "name": "python"
    }
  },
  "cells": [
    {
      "cell_type": "markdown",
      "source": [],
      "metadata": {
        "id": "AoRZ3ef66WT3"
      }
    },
    {
      "cell_type": "code",
      "source": [
        "!pip install gradio transformers"
      ],
      "metadata": {
        "id": "xys8ZQur2l9s"
      },
      "execution_count": null,
      "outputs": []
    },
    {
      "cell_type": "code",
      "source": [
        "import threading\n",
        "import gradio as gr\n",
        "from transformers import pipeline"
      ],
      "metadata": {
        "id": "ug4Rqv7V2jkc"
      },
      "execution_count": null,
      "outputs": []
    },
    {
      "cell_type": "code",
      "source": [
        "!pip install faster_whisper"
      ],
      "metadata": {
        "id": "b7wkyTaR5E8H"
      },
      "execution_count": null,
      "outputs": []
    },
    {
      "cell_type": "code",
      "source": [
        "from transformers import AutoTokenizer"
      ],
      "metadata": {
        "id": "6ZTjL-ZQ61Jt"
      },
      "execution_count": null,
      "outputs": []
    },
    {
      "cell_type": "code",
      "source": [
        "!pip install deep_translator"
      ],
      "metadata": {
        "id": "vXLdrOBL8F2D"
      },
      "execution_count": null,
      "outputs": []
    },
    {
      "cell_type": "code",
      "source": [
        "import time"
      ],
      "metadata": {
        "id": "gw4B-wQP_btj"
      },
      "execution_count": null,
      "outputs": []
    },
    {
      "cell_type": "code",
      "execution_count": null,
      "metadata": {
        "id": "U4_uTXr52Ms6"
      },
      "outputs": [],
      "source": [
        "!pip install sentencepiece==0.1.99\n",
        "pipe = pipeline(\"translation\", model=\"Helsinki-NLP/opus-mt-en-jap\")\n",
        "from transformers import MarianTokenizer, MarianMTModel\n",
        "#import whisper\n",
        "import time\n",
        "from faster_whisper import WhisperModel\n",
        "from transformers import pipeline, AutoTokenizer, AutoModelForSeq2SeqLM\n",
        "\n",
        "\n",
        "from deep_translator import GoogleTranslator\n",
        "\n",
        "en_to_ja_model_name = \"Helsinki-NLP/opus-mt-en-jap\"\n",
        "en_to_ja_tokenizer = MarianTokenizer.from_pretrained(en_to_ja_model_name)\n",
        "en_to_ja_model = MarianMTModel.from_pretrained(en_to_ja_model_name)\n",
        "\n",
        "# pipe = pipeline(\"translation\", model=\"Helsinki-NLP/opus-mt-en-mul\")\n",
        "# tokenizer = AutoTokenizer.from_pretrained(\"Helsinki-NLP/opus-mt-en-mul\")\n",
        "# model_trans = AutoModelForSeq2SeqLM.from_pretrained(\"Helsinki-NLP/opus-mt-en-mul\")\n",
        "time_store=0\n",
        "def translate_en_to_ja(audio,choice,state1_en_to_ja=\"\",state2_ja_to_en=\"\"):\n",
        "    global time_store\n",
        "    func_start_time = time.time()\n",
        "    print(choice)\n",
        "    if choice == \"Japanese\":\n",
        "        model = \"medium.en\"\n",
        "        text1 = \"\"\n",
        "        audio_model = WhisperModel(model, device=\"cpu\", compute_type=\"int8\")\n",
        "        text, _ = audio_model.transcribe(audio)\n",
        "        for segment in text:\n",
        "            text1 = segment.text\n",
        "        text = text1\n",
        "        file_append= open('sample.txt','a')\n",
        "        file_append.write(text)\n",
        "        file_append.close()\n",
        "        print(\"English:\", text)\n",
        "        #translated_text = GoogleTranslator(source='auto', target='ja').translate(text)\n",
        "        inputs = en_to_ja_tokenizer(text, return_tensors=\"pt\", padding=True, truncation=True, max_length=512)\n",
        "        translation = en_to_ja_model.generate(**inputs, max_length=512)\n",
        "        translated_text = en_to_ja_tokenizer.decode(translation[0], skip_special_tokens=True)\n",
        "\n",
        "        # inputs = tokenizer.encode(text, return_tensors=\"pt\", truncation=True)\n",
        "        # translation = model_trans.generate(inputs, max_length=128, num_beams=4, early_stopping=True, target_lang=\"ja\")\n",
        "        # translated_text = tokenizer.decode(translation[0], skip_special_tokens=True)\n",
        "        state1_en_to_ja += translated_text + \" \"\n",
        "        print(\"Japanese:\", state1_en_to_ja)\n",
        "        time_store+=time.time()-func_start_time\n",
        "        file_append= open('time.txt','a')\n",
        "        file_append.write(\"  \"+str(time_store))\n",
        "        file_append.close()\n",
        "\n",
        "        return state1_en_to_ja,\"\", state1_en_to_ja,\"\"\n",
        "    else:\n",
        "        model = \"small\"\n",
        "        text1 = \"\"\n",
        "        audio_model = WhisperModel(model, device=\"cpu\", compute_type=\"int8\")\n",
        "        text, _ = audio_model.transcribe(audio, task=\"translate\")\n",
        "        for segment in text:\n",
        "            text1 = segment.text\n",
        "        text = text1\n",
        "        print(\"Japanese transcript:\", text)\n",
        "        state2_ja_to_en+= text + \" \"\n",
        "        print(\"English translate:\", state2_ja_to_en)\n",
        "        return \"\",state2_ja_to_en,\"\",state2_ja_to_en\n",
        "\n",
        "# Create Gradio interface\n",
        "demo = gr.Blocks(live=True)\n",
        "with gr.Blocks() as demo:\n",
        "    state1_en_to_ja = gr.State(value=\"\")\n",
        "    state2_ja_to_en = gr.State(value=\"\")\n",
        "    with gr.Row():\n",
        "        with gr.Column():\n",
        "            audio_en_to_ja = gr.Audio(source=\"microphone\", type=\"filepath\", streaming=True)\n",
        "            radio_button = gr.Radio([\"Japanese\", \"English\"], label=\"Choose in which language you want to translate\", value=\"Japanese\")\n",
        "            liv_translation_en_to_ja = gr.Textbox(label=\"Translation (EN to JA)\")\n",
        "            liv_translation_ja_to_en = gr.Textbox(label=\"Translation (JA to EN)\")\n",
        "            audio_en_to_ja.stream(\n",
        "                fn=translate_en_to_ja,\n",
        "                inputs=[audio_en_to_ja, radio_button,state1_en_to_ja,state2_ja_to_en],\n",
        "                outputs=[liv_translation_en_to_ja, liv_translation_ja_to_en,state1_en_to_ja,state2_ja_to_en]\n",
        "            )\n",
        "\n",
        "demo.launch()"
      ]
    }
  ]
}